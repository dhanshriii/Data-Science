{
 "cells": [
  {
   "cell_type": "markdown",
   "id": "997e1bd6-1513-4602-81a3-dc9f83f15d95",
   "metadata": {},
   "source": [
    "# Label And Ordinal Encoding"
   ]
  },
  {
   "cell_type": "markdown",
   "id": "dbc89115-819b-44d2-8f2a-8a86388b0668",
   "metadata": {},
   "source": [
    "Converting Categorical Features into Numerical values when there are categories with ranking."
   ]
  },
  {
   "cell_type": "code",
   "execution_count": 5,
   "id": "a549a138-853a-4dcd-b642-f6348800f7c9",
   "metadata": {},
   "outputs": [],
   "source": [
    "import pandas as pd\n",
    "from sklearn.preprocessing import LabelEncoder"
   ]
  },
  {
   "cell_type": "code",
   "execution_count": 7,
   "id": "f1caf994-07f9-47e5-8e2d-46239c90033f",
   "metadata": {},
   "outputs": [],
   "source": [
    "## create a sample dataset\n",
    "df = pd.DataFrame({\n",
    "    'color' : ['red','blue','green','green','red','blue']\n",
    "})\n",
    "# here in this example, we cannot specify any ranking but on the basis on orders it will get converted into numerical values like 1,2,3,..."
   ]
  },
  {
   "cell_type": "code",
   "execution_count": 9,
   "id": "06d0ba0c-448e-478f-8793-79213986e9c1",
   "metadata": {},
   "outputs": [],
   "source": [
    "## create an instance of LabelEncoder\n",
    "encoder = LabelEncoder()"
   ]
  },
  {
   "cell_type": "code",
   "execution_count": 13,
   "id": "b1e4ecdc-b4b7-4eeb-a27f-7a97a4de1d5e",
   "metadata": {},
   "outputs": [
    {
     "data": {
      "text/plain": [
       "array([2, 0, 1, 1, 2, 0])"
      ]
     },
     "execution_count": 13,
     "metadata": {},
     "output_type": "execute_result"
    }
   ],
   "source": [
    "encoder.fit_transform(df['color'])"
   ]
  },
  {
   "cell_type": "markdown",
   "id": "e4613e4d-c014-419f-8d2d-fe69df276796",
   "metadata": {},
   "source": [
    "Theses lables got assigned alphabetically"
   ]
  },
  {
   "cell_type": "code",
   "execution_count": 16,
   "id": "1a8b8844-ad5d-47de-a4a3-cddd375cb02a",
   "metadata": {},
   "outputs": [],
   "source": [
    "# But lets assume we want to convert it on the basis of ranking\n",
    "# And here we will use Ordinal Encoding"
   ]
  },
  {
   "cell_type": "markdown",
   "id": "5f984389-be6e-4e1f-b500-a071865b4702",
   "metadata": {},
   "source": [
    "# Ordinal Encoding"
   ]
  },
  {
   "cell_type": "code",
   "execution_count": 21,
   "id": "e99b1218-5abd-4090-932d-66e3817a5c00",
   "metadata": {},
   "outputs": [],
   "source": [
    "import pandas as pd\n",
    "from sklearn.preprocessing import OrdinalEncoder\n"
   ]
  },
  {
   "cell_type": "code",
   "execution_count": 23,
   "id": "638607a9-942f-409e-997f-f6324107f798",
   "metadata": {},
   "outputs": [],
   "source": [
    "# create a sample DataFrame with an ordinal variable\n",
    "df = pd.DataFrame({\n",
    "    'size' : ['small','medium','large','medium','small','large']\n",
    "})"
   ]
  },
  {
   "cell_type": "code",
   "execution_count": 31,
   "id": "70e52dad-438a-4f66-858b-2c9a118d8c86",
   "metadata": {},
   "outputs": [],
   "source": [
    "## create ans instance of the ordinalEncoder class and fit_transform\n",
    "encoder = OrdinalEncoder(categories=[['small','medium','large']])\n",
    "# here we are defining which should have hich ranking"
   ]
  },
  {
   "cell_type": "code",
   "execution_count": 33,
   "id": "61625cdf-ecf8-4b27-acc9-30323f06a1ef",
   "metadata": {},
   "outputs": [
    {
     "data": {
      "text/plain": [
       "array([[0.],\n",
       "       [1.],\n",
       "       [2.],\n",
       "       [1.],\n",
       "       [0.],\n",
       "       [2.]])"
      ]
     },
     "execution_count": 33,
     "metadata": {},
     "output_type": "execute_result"
    }
   ],
   "source": [
    "encoder.fit_transform(df[['size']])"
   ]
  },
  {
   "cell_type": "code",
   "execution_count": null,
   "id": "b4b02d05-a63a-4b4d-8389-7f5be0c8f911",
   "metadata": {},
   "outputs": [],
   "source": []
  },
  {
   "cell_type": "code",
   "execution_count": null,
   "id": "ed66f271-312a-487c-9534-6f4515c3cdbb",
   "metadata": {},
   "outputs": [],
   "source": []
  }
 ],
 "metadata": {
  "kernelspec": {
   "display_name": "Python 3 (ipykernel)",
   "language": "python",
   "name": "python3"
  },
  "language_info": {
   "codemirror_mode": {
    "name": "ipython",
    "version": 3
   },
   "file_extension": ".py",
   "mimetype": "text/x-python",
   "name": "python",
   "nbconvert_exporter": "python",
   "pygments_lexer": "ipython3",
   "version": "3.11.7"
  }
 },
 "nbformat": 4,
 "nbformat_minor": 5
}
