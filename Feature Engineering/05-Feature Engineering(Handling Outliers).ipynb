{
 "cells": [
  {
   "cell_type": "markdown",
   "id": "ac81ebe5-721d-4b08-ae98-0e9d78690305",
   "metadata": {},
   "source": [
    "# Handling Outliers"
   ]
  },
  {
   "cell_type": "markdown",
   "id": "54e16a30-8ff4-4b7c-8c1e-84483e4def1c",
   "metadata": {},
   "source": [
    "Outliers affect the performance of the model and accuracy of the problem so our data set should not have the outliers."
   ]
  },
  {
   "cell_type": "markdown",
   "id": "5c873403-86bb-4dc8-a232-f84b5dd865cd",
   "metadata": {},
   "source": [
    "#### 5 Number summary\n",
    "1. Minimum value\n",
    "2. Q1 - 25 percentile\n",
    "3. Median\n",
    "4. Q3 - 75 percentile\n",
    "5. Maximum"
   ]
  },
  {
   "cell_type": "code",
   "execution_count": 11,
   "id": "e4d4ce68-d6e1-4743-a060-eaaf27d221e8",
   "metadata": {},
   "outputs": [],
   "source": [
    "import numpy as np\n",
    "\n",
    "lst_marks = [14,45,67,89,45,78,56,73,74,98,87,65,55,54,71,98, 1000,1100]"
   ]
  },
  {
   "cell_type": "code",
   "execution_count": 15,
   "id": "09d573b8-60b6-42f5-bcea-072c359a39ca",
   "metadata": {},
   "outputs": [
    {
     "data": {
      "text/plain": [
       "array([55.25])"
      ]
     },
     "execution_count": 15,
     "metadata": {},
     "output_type": "execute_result"
    }
   ],
   "source": [
    "np.percentile(lst_marks,[25])  # 1st parameter is array and second is 25th percentile"
   ]
  },
  {
   "cell_type": "code",
   "execution_count": 17,
   "id": "2610fed1-6d0c-40b4-8d6e-2eddfe89b192",
   "metadata": {},
   "outputs": [
    {
     "name": "stdout",
     "output_type": "stream",
     "text": [
      "[55.25]\n"
     ]
    }
   ],
   "source": [
    "#Firsly lest calculate Q1\n",
    "## willl create a range which will be in between [lower Fence <----> Higher Fence]\n",
    "Q1 = np.percentile(lst_marks,[25])\n",
    "print(Q1)"
   ]
  },
  {
   "cell_type": "code",
   "execution_count": 23,
   "id": "85346d12-5f38-40ab-b3b5-9968acf09dd7",
   "metadata": {},
   "outputs": [],
   "source": [
    "## There is function in numpy which gives all the data we need minimum, Q1, Q2, Q3, Maximum\n",
    "\n",
    "minimum, Q1, Q2, Q3, maximum = np.quantile(lst_marks, [0,0.25,0.50,0.75,1.0])"
   ]
  },
  {
   "cell_type": "code",
   "execution_count": 25,
   "id": "c02eafc8-3227-493b-9f2c-54bf32e5d597",
   "metadata": {},
   "outputs": [
    {
     "data": {
      "text/plain": [
       "1100.0"
      ]
     },
     "execution_count": 25,
     "metadata": {},
     "output_type": "execute_result"
    }
   ],
   "source": [
    "maximum"
   ]
  },
  {
   "cell_type": "markdown",
   "id": "2ec24e77-a273-427a-8895-040595b8b406",
   "metadata": {},
   "source": [
    "Now how to calculate outliers"
   ]
  },
  {
   "cell_type": "code",
   "execution_count": 30,
   "id": "854e2e2e-137e-4abf-aaf5-36cc14ca5751",
   "metadata": {},
   "outputs": [
    {
     "name": "stdout",
     "output_type": "stream",
     "text": [
      "33.25\n"
     ]
    }
   ],
   "source": [
    "## Firstly we will calculate IQR\n",
    "\n",
    "IQR = Q3 - Q1\n",
    "print(IQR)"
   ]
  },
  {
   "cell_type": "code",
   "execution_count": 32,
   "id": "f011454d-4e25-4f6a-8f65-22e1307200d7",
   "metadata": {},
   "outputs": [],
   "source": [
    "lower_fence = Q1 - 1.5 * (IQR)\n",
    "higher_fence = Q3 + 1.5 * (IQR)"
   ]
  },
  {
   "cell_type": "code",
   "execution_count": 34,
   "id": "a1589755-51c3-4358-822b-13ecb5cd3ee0",
   "metadata": {},
   "outputs": [
    {
     "data": {
      "text/plain": [
       "(5.375, 138.375)"
      ]
     },
     "execution_count": 34,
     "metadata": {},
     "output_type": "execute_result"
    }
   ],
   "source": [
    "lower_fence, higher_fence"
   ]
  },
  {
   "cell_type": "code",
   "execution_count": 36,
   "id": "5f87cc48-48ad-49c5-814c-cbe787ff4c2f",
   "metadata": {},
   "outputs": [
    {
     "name": "stdout",
     "output_type": "stream",
     "text": [
      "This is not an outliers\n",
      "This is not an outliers\n",
      "This is not an outliers\n",
      "This is not an outliers\n",
      "This is not an outliers\n",
      "This is not an outliers\n",
      "This is not an outliers\n",
      "This is not an outliers\n",
      "This is not an outliers\n",
      "This is not an outliers\n",
      "This is not an outliers\n",
      "This is not an outliers\n",
      "This is not an outliers\n",
      "This is not an outliers\n",
      "This is not an outliers\n",
      "This is not an outliers\n"
     ]
    }
   ],
   "source": [
    "outliers = []\n",
    "for i in lst_marks:\n",
    "    if i >= 0.75 and i <= 142.75:\n",
    "        print(\"This is not an outliers\")\n",
    "    else:\n",
    "        outliers.append(i)"
   ]
  },
  {
   "cell_type": "code",
   "execution_count": 38,
   "id": "315baa5b-cfba-4f54-a739-ba0e36d85f04",
   "metadata": {},
   "outputs": [
    {
     "data": {
      "text/plain": [
       "[1000, 1100]"
      ]
     },
     "execution_count": 38,
     "metadata": {},
     "output_type": "execute_result"
    }
   ],
   "source": [
    "outliers"
   ]
  },
  {
   "cell_type": "markdown",
   "id": "6827d0c3-ca10-46b9-b08a-9788955705d0",
   "metadata": {},
   "source": [
    "Here the outliers got seperated"
   ]
  },
  {
   "cell_type": "code",
   "execution_count": 43,
   "id": "f5984cbc-3b5e-4433-930f-7784beae8c10",
   "metadata": {},
   "outputs": [],
   "source": [
    "## checking Box Plot\n",
    "import seaborn as sns\n"
   ]
  },
  {
   "cell_type": "code",
   "execution_count": 49,
   "id": "b35235a7-4e88-470c-b3b6-a9ec72ad0056",
   "metadata": {},
   "outputs": [
    {
     "data": {
      "text/plain": [
       "<Axes: >"
      ]
     },
     "execution_count": 49,
     "metadata": {},
     "output_type": "execute_result"
    },
    {
     "data": {
      "image/png": "[encoded data removed]",
      "text/plain": [
       "<Figure size 640x480 with 1 Axes>"
      ]
     },
     "metadata": {},
     "output_type": "display_data"
    }
   ],
   "source": [
    "sns.boxplot(lst_marks)"
   ]
  },
  {
   "cell_type": "markdown",
   "id": "0eb6db0c-0e6e-436f-8bec-736dccecac76",
   "metadata": {},
   "source": [
    "The outliers can be clearly seen"
   ]
  },
  {
   "cell_type": "code",
   "execution_count": 54,
   "id": "75d3abd5-e3b0-420a-ad77-3b3601b34549",
   "metadata": {},
   "outputs": [
    {
     "data": {
      "text/plain": [
       "<Axes: >"
      ]
     },
     "execution_count": 54,
     "metadata": {},
     "output_type": "execute_result"
    },
    {
     "data": {
      "image/png": "[encoded data removed]",
      "text/plain": [
       "<Figure size 640x480 with 1 Axes>"
      ]
     },
     "metadata": {},
     "output_type": "display_data"
    }
   ],
   "source": [
    "# lets check if we dont have outliers\n",
    "lst_marks1 = [40,45,67,89,45,78,56,73,74,98,87,65,55,54,71,98]\n",
    "sns.boxplot(lst_marks1)"
   ]
  },
  {
   "cell_type": "code",
   "execution_count": null,
   "id": "9d245a14-b376-4c22-9553-69229eaf98fe",
   "metadata": {},
   "outputs": [],
   "source": []
  }
 ],
 "metadata": {
  "kernelspec": {
   "display_name": "Python 3 (ipykernel)",
   "language": "python",
   "name": "python3"
  },
  "language_info": {
   "codemirror_mode": {
    "name": "ipython",
    "version": 3
   },
   "file_extension": ".py",
   "mimetype": "text/x-python",
   "name": "python",
   "nbconvert_exporter": "python",
   "pygments_lexer": "ipython3",
   "version": "3.11.7"
  }
 },
 "nbformat": 4,
 "nbformat_minor": 5
}
