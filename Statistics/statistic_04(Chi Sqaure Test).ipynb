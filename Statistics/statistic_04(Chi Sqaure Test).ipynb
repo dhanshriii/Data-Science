{
 "cells": [
  {
   "cell_type": "code",
   "execution_count": 1,
   "id": "65ff8465-93c7-4777-afff-82f687b96963",
   "metadata": {},
   "outputs": [],
   "source": [
    "import scipy.stats as stat\n",
    "import numpy as np\n",
    "#Lets soppose there is a hostel and i want to know the no of hours students student in a weekly basis daily"
   ]
  },
  {
   "cell_type": "code",
   "execution_count": 3,
   "id": "fc49bae0-34b5-42b5-80a3-257f486b2653",
   "metadata": {},
   "outputs": [],
   "source": [
    "#No of hours student study in a weekly basis daily\n",
    "#categories : monday, tuesday, wednesday, thursday, friday, saturday, sunday\n",
    "expected_data = [8,6,7,9,6,9,7]   #the data we collected form the worden \n",
    "observed_data = [7,8,6,9,9,6,7]    #The data got from asking the students on sample basis\n",
    "\n",
    "## Note the sum of the data i.e sum(expected_data) == sum(observed_data) should be same "
   ]
  },
  {
   "cell_type": "code",
   "execution_count": 4,
   "id": "445e87e9-dc65-417f-b855-02ed5d7b9d56",
   "metadata": {},
   "outputs": [
    {
     "data": {
      "text/plain": [
       "(52, 52)"
      ]
     },
     "execution_count": 4,
     "metadata": {},
     "output_type": "execute_result"
    }
   ],
   "source": [
    "sum(expected_data),sum(observed_data)"
   ]
  },
  {
   "cell_type": "code",
   "execution_count": 6,
   "id": "4af6a42a-ead8-419e-9169-3e9cc9ab4ce3",
   "metadata": {},
   "outputs": [],
   "source": [
    "##Chi square Goodness of Fit Test\n",
    "chisquare_test_statistic,p_value = stat.chisquare(observed_data,expected_data)"
   ]
  },
  {
   "cell_type": "code",
   "execution_count": 7,
   "id": "4757607f-cc12-4276-8c68-18eb8dd540bc",
   "metadata": {},
   "outputs": [
    {
     "data": {
      "text/plain": [
       "(3.4345238095238093, 0.7526596580922865)"
      ]
     },
     "execution_count": 7,
     "metadata": {},
     "output_type": "execute_result"
    }
   ],
   "source": [
    "chisquare_test_statistic,p_value"
   ]
  },
  {
   "cell_type": "code",
   "execution_count": 17,
   "id": "dcb9cf45-8af7-485b-822d-b5710b9b52e6",
   "metadata": {},
   "outputs": [
    {
     "name": "stdout",
     "output_type": "stream",
     "text": [
      "DOF : 6\n"
     ]
    }
   ],
   "source": [
    "##Find the critical value\n",
    "significance_value = 0.05\n",
    "dof = len(expected_data)-1\n",
    "print(\"DOF :\",dof)\n",
    "critical_value = stat.chi2.ppf(1-significance_value,dof)"
   ]
  },
  {
   "cell_type": "code",
   "execution_count": 18,
   "id": "89cd6e6a-ae9a-4e61-8843-c52d5a1b8124",
   "metadata": {},
   "outputs": [
    {
     "data": {
      "text/plain": [
       "12.591587243743977"
      ]
     },
     "execution_count": 18,
     "metadata": {},
     "output_type": "execute_result"
    }
   ],
   "source": [
    "critical_value"
   ]
  },
  {
   "cell_type": "code",
   "execution_count": 20,
   "id": "c4907534-da3d-4a01-853d-b8580cf103ca",
   "metadata": {},
   "outputs": [
    {
     "name": "stdout",
     "output_type": "stream",
     "text": [
      "Accept the Null Hypothesis\n"
     ]
    }
   ],
   "source": [
    "#Check if chisquare_stat > critical value Then we reject the null hypothesis\n",
    "\n",
    "if chisquare_test_statistic > critical_value:\n",
    "    print(\"Reject the null Hypothesis\")\n",
    "else:\n",
    "    print(\"Accept the Null Hypothesis\")"
   ]
  },
  {
   "cell_type": "code",
   "execution_count": null,
   "id": "a0c61cd4-ed47-41fe-872c-aa42c694391d",
   "metadata": {},
   "outputs": [],
   "source": []
  }
 ],
 "metadata": {
  "kernelspec": {
   "display_name": "Python 3 (ipykernel)",
   "language": "python",
   "name": "python3"
  },
  "language_info": {
   "codemirror_mode": {
    "name": "ipython",
    "version": 3
   },
   "file_extension": ".py",
   "mimetype": "text/x-python",
   "name": "python",
   "nbconvert_exporter": "python",
   "pygments_lexer": "ipython3",
   "version": "3.11.7"
  }
 },
 "nbformat": 4,
 "nbformat_minor": 5
}
