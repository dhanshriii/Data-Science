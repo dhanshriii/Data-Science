{
 "cells": [
  {
   "cell_type": "markdown",
   "id": "52fb60c5-613b-4e61-bfcd-cebf1413f23a",
   "metadata": {},
   "source": [
    "## EDA(Exaploratory Data Analysis)\n"
   ]
  },
  {
   "cell_type": "code",
   "execution_count": 4,
   "id": "31570a4f-babd-4308-b882-16316c7887d8",
   "metadata": {},
   "outputs": [],
   "source": [
    "import pandas as pd"
   ]
  },
  {
   "cell_type": "code",
   "execution_count": 8,
   "id": "cac089e2-d835-42ed-9e42-063fc048f535",
   "metadata": {},
   "outputs": [],
   "source": [
    "df = pd.read_csv(\"onion_2022.csv\")"
   ]
  },
  {
   "cell_type": "code",
   "execution_count": 10,
   "id": "06d5817a-4a8a-4f84-bf37-70eba8faa647",
   "metadata": {},
   "outputs": [
    {
     "data": {
      "text/html": [
       "<div>\n",
       "<style scoped>\n",
       "    .dataframe tbody tr th:only-of-type {\n",
       "        vertical-align: middle;\n",
       "    }\n",
       "\n",
       "    .dataframe tbody tr th {\n",
       "        vertical-align: top;\n",
       "    }\n",
       "\n",
       "    .dataframe thead th {\n",
       "        text-align: right;\n",
       "    }\n",
       "</style>\n",
       "<table border=\"1\" class=\"dataframe\">\n",
       "  <thead>\n",
       "    <tr style=\"text-align: right;\">\n",
       "      <th></th>\n",
       "      <th>state</th>\n",
       "      <th>district</th>\n",
       "      <th>market</th>\n",
       "      <th>commodity</th>\n",
       "      <th>variety</th>\n",
       "      <th>arrival_date</th>\n",
       "      <th>min_price</th>\n",
       "      <th>max_price</th>\n",
       "      <th>modal_price</th>\n",
       "    </tr>\n",
       "  </thead>\n",
       "  <tbody>\n",
       "    <tr>\n",
       "      <th>0</th>\n",
       "      <td>Andaman and Nicobar</td>\n",
       "      <td>South Andaman</td>\n",
       "      <td>Port Blair</td>\n",
       "      <td>Onion</td>\n",
       "      <td>Other</td>\n",
       "      <td>29/01/2022</td>\n",
       "      <td>4000.0</td>\n",
       "      <td>7000.0</td>\n",
       "      <td>5000.0</td>\n",
       "    </tr>\n",
       "    <tr>\n",
       "      <th>1</th>\n",
       "      <td>Andaman and Nicobar</td>\n",
       "      <td>South Andaman</td>\n",
       "      <td>Port Blair</td>\n",
       "      <td>Onion</td>\n",
       "      <td>Other</td>\n",
       "      <td>31/01/2022</td>\n",
       "      <td>4000.0</td>\n",
       "      <td>6000.0</td>\n",
       "      <td>5000.0</td>\n",
       "    </tr>\n",
       "    <tr>\n",
       "      <th>2</th>\n",
       "      <td>Andaman and Nicobar</td>\n",
       "      <td>South Andaman</td>\n",
       "      <td>Port Blair</td>\n",
       "      <td>Onion</td>\n",
       "      <td>Other</td>\n",
       "      <td>14/03/2022</td>\n",
       "      <td>4000.0</td>\n",
       "      <td>6000.0</td>\n",
       "      <td>5000.0</td>\n",
       "    </tr>\n",
       "    <tr>\n",
       "      <th>3</th>\n",
       "      <td>Andaman and Nicobar</td>\n",
       "      <td>South Andaman</td>\n",
       "      <td>Port Blair</td>\n",
       "      <td>Onion</td>\n",
       "      <td>Other</td>\n",
       "      <td>15/03/2022</td>\n",
       "      <td>4000.0</td>\n",
       "      <td>6000.0</td>\n",
       "      <td>5000.0</td>\n",
       "    </tr>\n",
       "    <tr>\n",
       "      <th>4</th>\n",
       "      <td>Andaman and Nicobar</td>\n",
       "      <td>South Andaman</td>\n",
       "      <td>Port Blair</td>\n",
       "      <td>Onion</td>\n",
       "      <td>Other</td>\n",
       "      <td>16/03/2022</td>\n",
       "      <td>4000.0</td>\n",
       "      <td>6000.0</td>\n",
       "      <td>5000.0</td>\n",
       "    </tr>\n",
       "  </tbody>\n",
       "</table>\n",
       "</div>"
      ],
      "text/plain": [
       "                 state       district      market commodity variety  \\\n",
       "0  Andaman and Nicobar  South Andaman  Port Blair     Onion   Other   \n",
       "1  Andaman and Nicobar  South Andaman  Port Blair     Onion   Other   \n",
       "2  Andaman and Nicobar  South Andaman  Port Blair     Onion   Other   \n",
       "3  Andaman and Nicobar  South Andaman  Port Blair     Onion   Other   \n",
       "4  Andaman and Nicobar  South Andaman  Port Blair     Onion   Other   \n",
       "\n",
       "  arrival_date  min_price  max_price  modal_price  \n",
       "0   29/01/2022     4000.0     7000.0       5000.0  \n",
       "1   31/01/2022     4000.0     6000.0       5000.0  \n",
       "2   14/03/2022     4000.0     6000.0       5000.0  \n",
       "3   15/03/2022     4000.0     6000.0       5000.0  \n",
       "4   16/03/2022     4000.0     6000.0       5000.0  "
      ]
     },
     "execution_count": 10,
     "metadata": {},
     "output_type": "execute_result"
    }
   ],
   "source": [
    "df.head()"
   ]
  },
  {
   "cell_type": "code",
   "execution_count": 12,
   "id": "d56120fd-490d-41cc-ad94-3eae4313ce74",
   "metadata": {},
   "outputs": [
    {
     "name": "stdout",
     "output_type": "stream",
     "text": [
      "<class 'pandas.core.frame.DataFrame'>\n",
      "RangeIndex: 201924 entries, 0 to 201923\n",
      "Data columns (total 9 columns):\n",
      " #   Column        Non-Null Count   Dtype  \n",
      "---  ------        --------------   -----  \n",
      " 0   state         201924 non-null  object \n",
      " 1   district      201924 non-null  object \n",
      " 2   market        201924 non-null  object \n",
      " 3   commodity     201924 non-null  object \n",
      " 4   variety       201924 non-null  object \n",
      " 5   arrival_date  201924 non-null  object \n",
      " 6   min_price     201801 non-null  float64\n",
      " 7   max_price     201494 non-null  float64\n",
      " 8   modal_price   201924 non-null  float64\n",
      "dtypes: float64(3), object(6)\n",
      "memory usage: 13.9+ MB\n"
     ]
    }
   ],
   "source": [
    "## Firstly lets check the summary of the dataset\n",
    "df.info()"
   ]
  },
  {
   "cell_type": "markdown",
   "id": "fb114bb1-43f8-456c-bccb-877539ab8e45",
   "metadata": {},
   "source": [
    "HEre we can see the number of columns their name , there datatypes"
   ]
  },
  {
   "cell_type": "code",
   "execution_count": 17,
   "id": "b10a73af-ac39-4f79-b8fe-016b1bd0d8fd",
   "metadata": {},
   "outputs": [
    {
     "data": {
      "text/html": [
       "<div>\n",
       "<style scoped>\n",
       "    .dataframe tbody tr th:only-of-type {\n",
       "        vertical-align: middle;\n",
       "    }\n",
       "\n",
       "    .dataframe tbody tr th {\n",
       "        vertical-align: top;\n",
       "    }\n",
       "\n",
       "    .dataframe thead th {\n",
       "        text-align: right;\n",
       "    }\n",
       "</style>\n",
       "<table border=\"1\" class=\"dataframe\">\n",
       "  <thead>\n",
       "    <tr style=\"text-align: right;\">\n",
       "      <th></th>\n",
       "      <th>min_price</th>\n",
       "      <th>max_price</th>\n",
       "      <th>modal_price</th>\n",
       "    </tr>\n",
       "  </thead>\n",
       "  <tbody>\n",
       "    <tr>\n",
       "      <th>count</th>\n",
       "      <td>201801.000000</td>\n",
       "      <td>201494.000000</td>\n",
       "      <td>201924.000000</td>\n",
       "    </tr>\n",
       "    <tr>\n",
       "      <th>mean</th>\n",
       "      <td>1626.001554</td>\n",
       "      <td>2041.775284</td>\n",
       "      <td>1845.356867</td>\n",
       "    </tr>\n",
       "    <tr>\n",
       "      <th>std</th>\n",
       "      <td>1613.024647</td>\n",
       "      <td>1869.346724</td>\n",
       "      <td>1719.578318</td>\n",
       "    </tr>\n",
       "    <tr>\n",
       "      <th>min</th>\n",
       "      <td>4.000000</td>\n",
       "      <td>12.000000</td>\n",
       "      <td>6.000000</td>\n",
       "    </tr>\n",
       "    <tr>\n",
       "      <th>25%</th>\n",
       "      <td>1000.000000</td>\n",
       "      <td>1400.000000</td>\n",
       "      <td>1240.000000</td>\n",
       "    </tr>\n",
       "    <tr>\n",
       "      <th>50%</th>\n",
       "      <td>1410.000000</td>\n",
       "      <td>1775.000000</td>\n",
       "      <td>1570.000000</td>\n",
       "    </tr>\n",
       "    <tr>\n",
       "      <th>75%</th>\n",
       "      <td>2000.000000</td>\n",
       "      <td>2370.750000</td>\n",
       "      <td>2100.000000</td>\n",
       "    </tr>\n",
       "    <tr>\n",
       "      <th>max</th>\n",
       "      <td>100000.000000</td>\n",
       "      <td>105000.000000</td>\n",
       "      <td>102000.000000</td>\n",
       "    </tr>\n",
       "  </tbody>\n",
       "</table>\n",
       "</div>"
      ],
      "text/plain": [
       "           min_price      max_price    modal_price\n",
       "count  201801.000000  201494.000000  201924.000000\n",
       "mean     1626.001554    2041.775284    1845.356867\n",
       "std      1613.024647    1869.346724    1719.578318\n",
       "min         4.000000      12.000000       6.000000\n",
       "25%      1000.000000    1400.000000    1240.000000\n",
       "50%      1410.000000    1775.000000    1570.000000\n",
       "75%      2000.000000    2370.750000    2100.000000\n",
       "max    100000.000000  105000.000000  102000.000000"
      ]
     },
     "execution_count": 17,
     "metadata": {},
     "output_type": "execute_result"
    }
   ],
   "source": [
    "#Descriptive summary\n",
    "df.describe()"
   ]
  },
  {
   "cell_type": "markdown",
   "id": "2bfd66b0-3e87-4450-976c-d937ee914622",
   "metadata": {},
   "source": [
    "here we get the parameters of descriptiove stats\n",
    "like mean, median 25 percentile, 50th percentile, 75th percentile, min, max"
   ]
  },
  {
   "cell_type": "code",
   "execution_count": 20,
   "id": "f5bf2de4-c33f-4d00-921f-64832ef6790b",
   "metadata": {},
   "outputs": [
    {
     "data": {
      "text/plain": [
       "(201924, 9)"
      ]
     },
     "execution_count": 20,
     "metadata": {},
     "output_type": "execute_result"
    }
   ],
   "source": [
    "# check the shape of the dataset\n",
    "df.shape"
   ]
  },
  {
   "cell_type": "markdown",
   "id": "9ade04e9-260d-4ac2-801e-3da787d05505",
   "metadata": {},
   "source": [
    "Here number of (Rows,columns) are displayed"
   ]
  },
  {
   "cell_type": "code",
   "execution_count": 25,
   "id": "2f578c4e-db62-4841-9c65-c4d61c033d5b",
   "metadata": {},
   "outputs": [
    {
     "data": {
      "text/plain": [
       "Index(['state', 'district', 'market', 'commodity', 'variety', 'arrival_date',\n",
       "       'min_price', 'max_price', 'modal_price'],\n",
       "      dtype='object')"
      ]
     },
     "execution_count": 25,
     "metadata": {},
     "output_type": "execute_result"
    }
   ],
   "source": [
    "## displying columns\n",
    "df.columns"
   ]
  },
  {
   "cell_type": "code",
   "execution_count": 31,
   "id": "9b7b07ee-1b0d-48cd-9cc4-610c3db0dc4d",
   "metadata": {},
   "outputs": [
    {
     "data": {
      "text/plain": [
       "array([5000., 4000., 1669., ..., 2935., 5350., 3375.])"
      ]
     },
     "execution_count": 31,
     "metadata": {},
     "output_type": "execute_result"
    }
   ],
   "source": [
    "df['modal_price'].unique"
   ]
  },
  {
   "cell_type": "code",
   "execution_count": 33,
   "id": "5d5869e9-7d86-41b6-b860-ca79b6351d27",
   "metadata": {},
   "outputs": [
    {
     "data": {
      "text/plain": [
       "modal_price\n",
       "1500.0    10322\n",
       "1200.0     8643\n",
       "2000.0     8609\n",
       "1800.0     8096\n",
       "1400.0     7773\n",
       "          ...  \n",
       "2878.0        1\n",
       "2913.0        1\n",
       "2988.0        1\n",
       "452.0         1\n",
       "1223.0        1\n",
       "Name: count, Length: 1938, dtype: int64"
      ]
     },
     "execution_count": 33,
     "metadata": {},
     "output_type": "execute_result"
    }
   ],
   "source": [
    "df['modal_price'].value_counts()"
   ]
  },
  {
   "cell_type": "markdown",
   "id": "cb91109c-6d74-452f-ad19-e7d53492eb47",
   "metadata": {},
   "source": [
    "Here we can see most of the value count is for 1500 i.e mostly the onion rate was 1500\n",
    "And the is also a imablanced data set as over values range differ a lot"
   ]
  },
  {
   "cell_type": "code",
   "execution_count": 37,
   "id": "c73bc140-7d43-42c3-b63c-b5fa188e16a7",
   "metadata": {},
   "outputs": [],
   "source": [
    "# conlusion - Imbalanced dataset"
   ]
  },
  {
   "cell_type": "code",
   "execution_count": 39,
   "id": "398fc38c-6d34-4365-8ed2-1516885786bd",
   "metadata": {},
   "outputs": [
    {
     "data": {
      "text/plain": [
       "state             0\n",
       "district          0\n",
       "market            0\n",
       "commodity         0\n",
       "variety           0\n",
       "arrival_date      0\n",
       "min_price       123\n",
       "max_price       430\n",
       "modal_price       0\n",
       "dtype: int64"
      ]
     },
     "execution_count": 39,
     "metadata": {},
     "output_type": "execute_result"
    }
   ],
   "source": [
    "## Missing values\n",
    "df.isnull().sum()"
   ]
  },
  {
   "cell_type": "markdown",
   "id": "1135f27f-5619-4be6-ae8b-0a28b9db977f",
   "metadata": {},
   "source": [
    "There are null values in min_price and max_price"
   ]
  },
  {
   "cell_type": "markdown",
   "id": "4a2fb6cb-e7df-469b-9661-406d09f65a2a",
   "metadata": {},
   "source": [
    "conclusion - there are missing values in min_price and max_price\n",
    "##### These are handles during feature Engineering"
   ]
  },
  {
   "cell_type": "code",
   "execution_count": 48,
   "id": "7e68a167-8117-4660-9b65-474e6adc0462",
   "metadata": {},
   "outputs": [
    {
     "data": {
      "text/plain": [
       "state             0\n",
       "district          0\n",
       "market            0\n",
       "commodity         0\n",
       "variety           0\n",
       "arrival_date      0\n",
       "min_price       0.0\n",
       "max_price       0.0\n",
       "modal_price     0.0\n",
       "dtype: object"
      ]
     },
     "execution_count": 48,
     "metadata": {},
     "output_type": "execute_result"
    }
   ],
   "source": [
    "## Check Dublicate records\n",
    "df[df.duplicated()].sum()"
   ]
  },
  {
   "cell_type": "markdown",
   "id": "ff7abca4-8b63-42e6-9b1f-77d366179c39",
   "metadata": {},
   "source": [
    "There are no duplicate records present"
   ]
  },
  {
   "cell_type": "code",
   "execution_count": 53,
   "id": "ada642c1-1493-4002-9714-3a8480a03152",
   "metadata": {},
   "outputs": [],
   "source": [
    "## If there were duplicate records we would have removed it during EDA "
   ]
  },
  {
   "cell_type": "code",
   "execution_count": null,
   "id": "854fe440-253b-4ecf-be3c-5d0a36760fa2",
   "metadata": {},
   "outputs": [],
   "source": [
    "#3 Lets check the correlation\n",
    "df.corr()\n",
    "\n"
   ]
  },
  {
   "cell_type": "markdown",
   "id": "f8132fcc-87ed-441c-a716-db0f64ec1624",
   "metadata": {},
   "source": [
    "Here id we run this cell will get error because correlation can be checked only between numerical values"
   ]
  },
  {
   "cell_type": "code",
   "execution_count": 65,
   "id": "bdc4132a-d584-4896-81e0-3713f5c5327c",
   "metadata": {},
   "outputs": [],
   "source": [
    "# LEts seperate the numerical values\n",
    "df2 = df[['min_price','max_price','modal_price']]"
   ]
  },
  {
   "cell_type": "code",
   "execution_count": 67,
   "id": "d62dd1be-39b9-4ec9-9f52-960a3a2f5138",
   "metadata": {},
   "outputs": [
    {
     "data": {
      "text/html": [
       "<div>\n",
       "<style scoped>\n",
       "    .dataframe tbody tr th:only-of-type {\n",
       "        vertical-align: middle;\n",
       "    }\n",
       "\n",
       "    .dataframe tbody tr th {\n",
       "        vertical-align: top;\n",
       "    }\n",
       "\n",
       "    .dataframe thead th {\n",
       "        text-align: right;\n",
       "    }\n",
       "</style>\n",
       "<table border=\"1\" class=\"dataframe\">\n",
       "  <thead>\n",
       "    <tr style=\"text-align: right;\">\n",
       "      <th></th>\n",
       "      <th>min_price</th>\n",
       "      <th>max_price</th>\n",
       "      <th>modal_price</th>\n",
       "    </tr>\n",
       "  </thead>\n",
       "  <tbody>\n",
       "    <tr>\n",
       "      <th>0</th>\n",
       "      <td>4000.0</td>\n",
       "      <td>7000.0</td>\n",
       "      <td>5000.0</td>\n",
       "    </tr>\n",
       "    <tr>\n",
       "      <th>1</th>\n",
       "      <td>4000.0</td>\n",
       "      <td>6000.0</td>\n",
       "      <td>5000.0</td>\n",
       "    </tr>\n",
       "    <tr>\n",
       "      <th>2</th>\n",
       "      <td>4000.0</td>\n",
       "      <td>6000.0</td>\n",
       "      <td>5000.0</td>\n",
       "    </tr>\n",
       "    <tr>\n",
       "      <th>3</th>\n",
       "      <td>4000.0</td>\n",
       "      <td>6000.0</td>\n",
       "      <td>5000.0</td>\n",
       "    </tr>\n",
       "    <tr>\n",
       "      <th>4</th>\n",
       "      <td>4000.0</td>\n",
       "      <td>6000.0</td>\n",
       "      <td>5000.0</td>\n",
       "    </tr>\n",
       "  </tbody>\n",
       "</table>\n",
       "</div>"
      ],
      "text/plain": [
       "   min_price  max_price  modal_price\n",
       "0     4000.0     7000.0       5000.0\n",
       "1     4000.0     6000.0       5000.0\n",
       "2     4000.0     6000.0       5000.0\n",
       "3     4000.0     6000.0       5000.0\n",
       "4     4000.0     6000.0       5000.0"
      ]
     },
     "execution_count": 67,
     "metadata": {},
     "output_type": "execute_result"
    }
   ],
   "source": [
    "df2.head()"
   ]
  },
  {
   "cell_type": "code",
   "execution_count": 70,
   "id": "2e8109d4-fe74-403b-8ef2-2f2efdb2436b",
   "metadata": {},
   "outputs": [
    {
     "data": {
      "text/html": [
       "<div>\n",
       "<style scoped>\n",
       "    .dataframe tbody tr th:only-of-type {\n",
       "        vertical-align: middle;\n",
       "    }\n",
       "\n",
       "    .dataframe tbody tr th {\n",
       "        vertical-align: top;\n",
       "    }\n",
       "\n",
       "    .dataframe thead th {\n",
       "        text-align: right;\n",
       "    }\n",
       "</style>\n",
       "<table border=\"1\" class=\"dataframe\">\n",
       "  <thead>\n",
       "    <tr style=\"text-align: right;\">\n",
       "      <th></th>\n",
       "      <th>min_price</th>\n",
       "      <th>max_price</th>\n",
       "      <th>modal_price</th>\n",
       "    </tr>\n",
       "  </thead>\n",
       "  <tbody>\n",
       "    <tr>\n",
       "      <th>min_price</th>\n",
       "      <td>1.000000</td>\n",
       "      <td>0.955678</td>\n",
       "      <td>0.983747</td>\n",
       "    </tr>\n",
       "    <tr>\n",
       "      <th>max_price</th>\n",
       "      <td>0.955678</td>\n",
       "      <td>1.000000</td>\n",
       "      <td>0.988396</td>\n",
       "    </tr>\n",
       "    <tr>\n",
       "      <th>modal_price</th>\n",
       "      <td>0.983747</td>\n",
       "      <td>0.988396</td>\n",
       "      <td>1.000000</td>\n",
       "    </tr>\n",
       "  </tbody>\n",
       "</table>\n",
       "</div>"
      ],
      "text/plain": [
       "             min_price  max_price  modal_price\n",
       "min_price     1.000000   0.955678     0.983747\n",
       "max_price     0.955678   1.000000     0.988396\n",
       "modal_price   0.983747   0.988396     1.000000"
      ]
     },
     "execution_count": 70,
     "metadata": {},
     "output_type": "execute_result"
    }
   ],
   "source": [
    "\n",
    "df2.corr()"
   ]
  },
  {
   "cell_type": "code",
   "execution_count": 72,
   "id": "7dc41250-5793-44e5-8fbe-e8fc3b05272c",
   "metadata": {},
   "outputs": [],
   "source": [
    "# Here all are highly and positively correlated"
   ]
  },
  {
   "cell_type": "code",
   "execution_count": 76,
   "id": "20ef2410-d916-4ef6-982c-08eb337e0dc6",
   "metadata": {},
   "outputs": [
    {
     "data": {
      "text/plain": [
       "<Axes: >"
      ]
     },
     "execution_count": 76,
     "metadata": {},
     "output_type": "execute_result"
    },
    {
     "data": {
      "image/png": "[encoded data removed]",
      "text/plain": [
       "<Figure size 1000x600 with 2 Axes>"
      ]
     },
     "metadata": {},
     "output_type": "display_data"
    }
   ],
   "source": [
    "import matplotlib.pyplot as plt\n",
    "import seaborn as sns\n",
    "plt.figure(figsize=(10,6))\n",
    "sns.heatmap(df2.corr(),annot=True)"
   ]
  },
  {
   "cell_type": "code",
   "execution_count": 78,
   "id": "d9d469b6-c776-41d5-b3fb-167fab8cad28",
   "metadata": {},
   "outputs": [
    {
     "data": {
      "text/plain": [
       "<Axes: xlabel='modal_price'>"
      ]
     },
     "execution_count": 78,
     "metadata": {},
     "output_type": "execute_result"
    },
    {
     "data": {
      "image/png": "[encoded data removed]",
      "text/plain": [
       "<Figure size 640x480 with 1 Axes>"
      ]
     },
     "metadata": {},
     "output_type": "display_data"
    }
   ],
   "source": [
    "df.modal_price.value_counts().plot(kind='bar')\n",
    "# as there are  many values and pricing is varying so we dont get aproper graph \n",
    "# As this is imbalanced"
   ]
  },
  {
   "cell_type": "code",
   "execution_count": 80,
   "id": "5cfab86c-5da5-419f-b293-6da7c7ed3fa7",
   "metadata": {},
   "outputs": [
    {
     "data": {
      "text/plain": [
       "<seaborn.axisgrid.FacetGrid at 0x22dc6a00c90>"
      ]
     },
     "execution_count": 80,
     "metadata": {},
     "output_type": "execute_result"
    },
    {
     "data": {
      "image/png": "[encoded data removed]",
      "text/plain": [
       "<Figure size 511.111x500 with 1 Axes>"
      ]
     },
     "metadata": {},
     "output_type": "display_data"
    }
   ],
   "source": [
    "# catogorical plot\n",
    "sns.catplot(x='modal_price',y='min_price',data=df2,kind='box')\n",
    "## There are alot of outliers"
   ]
  },
  {
   "cell_type": "code",
   "execution_count": null,
   "id": "b26d70db-2cab-4aa6-95b1-ab6f00ca6cda",
   "metadata": {},
   "outputs": [],
   "source": []
  }
 ],
 "metadata": {
  "kernelspec": {
   "display_name": "Python 3 (ipykernel)",
   "language": "python",
   "name": "python3"
  },
  "language_info": {
   "codemirror_mode": {
    "name": "ipython",
    "version": 3
   },
   "file_extension": ".py",
   "mimetype": "text/x-python",
   "name": "python",
   "nbconvert_exporter": "python",
   "pygments_lexer": "ipython3",
   "version": "3.11.7"
  }
 },
 "nbformat": 4,
 "nbformat_minor": 5
}
